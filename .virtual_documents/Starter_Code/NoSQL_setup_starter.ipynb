








!mongoimport --type json -d uk_food -c establishments --drop --jsonArray establishments.json





# Import dependencies
from pymongo import MongoClient
from pprint import pprint
from bson.decimal128 import Decimal128



# Create an instance of MongoClient
mongo = MongoClient(port=27017)


# confirm that our new database was created
print(mongo.list_database_names())


# assign the uk_food database to a variable name
db = mongo['uk_food']


# review the collections in our new database
print(db.list_collection_names())


# review a document in the establishments collection
pprint(db.establishments.find_one())


# assign the collection to a variable
establishments = db['establishments']








# Create a dictionary for the new restaurant data
new_restaurant = {
    "BusinessName":"Penang Flavours",
    "BusinessType":"Restaurant/Cafe/Canteen",
    "BusinessTypeID":"",
    "AddressLine1":"Penang Flavours",
    "AddressLine2":"146A Plumstead Rd",
    "AddressLine3":"London",
    "AddressLine4":"",
    "PostCode":"SE18 7DY",
    "Phone":"",
    "LocalAuthorityCode":"511",
    "LocalAuthorityName":"Greenwich",
    "LocalAuthorityWebSite":"http://www.royalgreenwich.gov.uk",
    "LocalAuthorityEmailAddress":"health@royalgreenwich.gov.uk",
    "scores":{
        "Hygiene":"",
        "Structural":"",
        "ConfidenceInManagement":""
    },
    "SchemeType":"FHRS",
    "geocode":{
        "longitude":"0.08384000",
        "latitude":"51.49014200"
    },
    "RightToReply":"",
    "Distance":4623.9723280747176,
    "NewRatingPending":True
}



# Insert the new restaurant into the collection
establishments.insert_one(new_restaurant)


# Check that the new restaurant was inserted
query = {"BusinessName":"Penang Flavours"}
results = establishments.find(query)
for result in results:
    pprint(result)





# Find the BusinessTypeID for "Restaurant/Cafe/Canteen" and return only the BusinessTypeID and BusinessType fields

results1 = establishments.find(
    {"BusinessType": "Restaurant/Cafe/Canteen"},
    { "BusinessTypeID": 1, "BusinessType": 1, "_id": 0}
)

for result in results1:
    pprint(result)





# Update the new restaurant with the correct BusinessTypeID
new_restaurant["BusinessTypeID"] = 1


# Confirm that the new restaurant was updated
pprint(new_restaurant)





# Find how many documents have LocalAuthorityName as "Dover"
count = establishments.count_documents({"LocalAuthorityName": "Dover"})

print(f"Number of documents with LocalAuthorityName as 'Dover': {count}")


# Delete all documents where LocalAuthorityName is "Dover"
result = establishments.delete_many({"LocalAuthorityName": "Dover"})



# Check if any remaining documents include Dover
exists = establishments.find_one({"LocalAuthorityName": "Dover"})

if exists:
    print("There are still documents with LocalAuthorityName as 'Dover'.")
else:
    print("All documents with LocalAuthorityName as 'Dover' have been deleted.")


# Check that other documents remain with 'find_one'
other_document = establishments.find_one()

if other_document:
    print("There are still documents in the collection.")
else:
    print("The collection is empty.")








# Change the data type from String to Decimal for longitude and latitude
# Find all documents where latitude and longitude are still strings
for doc in establishments.find({
    "$or": [
        {"latitude": {"$type": "string"}},
        {"longitude": {"$type": "string"}}
    ]
}):
    try:
        # Convert string to Decimal128
        new_latitude = Decimal128(doc['latitude'])
        new_longitude = Decimal128(doc['longitude'])
        
        # Update the document
        establishments.update_many(
            {"_id": doc["_id"]},
            {"$set": {
                "latitude": new_latitude,
                "longitude": new_longitude
            }}
        )
    except Exception as e:
        print(f"Skipping document {_id} due to error: {e}")






# Set non 1-5 Rating Values to Null
non_ratings = ["AwaitingInspection", "Awaiting Inspection", "AwaitingPublication", "Pass", "Exempt"]
establishments.update_many({"RatingValue": {"$in": non_ratings}}, [ {'$set':{ "RatingValue" : None}} ])


# Change the data type from String to Integer for RatingValue
establishments.update_many(
    {
        "RatingValue": {
            "$nin": non_ratings,  # Exclude the special text cases
            "$type": "string"      # Only strings
        }
    },
    [
        {
            "$set": {
                "RatingValue": {
                    "$toInt": "$RatingValue"
                }
            }
        }
    ]
)


# Check that the coordinates and rating value are now numbers
# Check if any documents still have longitude, latitude, or RatingValue as non-numeric
for doc in establishments.find():
    # Check if longitude or latitude are not numbers
    if not isinstance(doc.get('longitude'), (int, float)):
        print(f"Document {doc['_id']} has invalid longitude: {doc['longitude']}")
    
    if not isinstance(doc.get('latitude'), (int, float)):
        print(f"Document {doc['_id']} has invalid latitude: {doc['latitude']}")
    
    # Check if RatingValue is not a number
    if not isinstance(doc.get('RatingValue'), (int, float)):
        print(f"Document {doc['_id']} has invalid RatingValue: {doc['RatingValue']}")




